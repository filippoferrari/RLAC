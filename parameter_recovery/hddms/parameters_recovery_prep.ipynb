{
 "cells": [
  {
   "cell_type": "code",
   "execution_count": 1,
   "metadata": {},
   "outputs": [
    {
     "name": "stdout",
     "output_type": "stream",
     "text": [
      "0.8.0\n"
     ]
    },
    {
     "name": "stderr",
     "output_type": "stream",
     "text": [
      "/opt/homebrew/Caskroom/miniforge/base/envs/pyHDDM/lib/python3.6/site-packages/IPython/parallel.py:13: ShimWarning: The `IPython.parallel` package has been deprecated since IPython 4.0. You should import from ipyparallel instead.\n",
      "  \"You should import from ipyparallel instead.\", ShimWarning)\n"
     ]
    }
   ],
   "source": [
    "import numpy as np\n",
    "import pandas as pd\n",
    "import scipy\n",
    "import matplotlib.pyplot as plt\n",
    "import kabuki\n",
    "import seaborn as sns\n",
    "%matplotlib inline\n",
    "import hddm\n",
    "print(hddm.__version__)"
   ]
  },
  {
   "cell_type": "code",
   "execution_count": null,
   "metadata": {},
   "outputs": [],
   "source": [
    "def read_models(filepath, n_chains=4):\n",
    "    models=[]\n",
    "    for i in range(n_chains):    \n",
    "        models.append(hddm.load(f'{filepath}_{i}model'))\n",
    "    return kabuki.utils.concat_models(models)"
   ]
  },
  {
   "cell_type": "code",
   "execution_count": 2,
   "metadata": {},
   "outputs": [],
   "source": [
    "model_loa = read_models('./atvz_loa_4c_4000s_1000b', n_chains=4)\n",
    "model_hia = read_models('./atvz_hia_4c_4000s_1000b', n_chains=4)"
   ]
  },
  {
   "cell_type": "code",
   "execution_count": 3,
   "metadata": {},
   "outputs": [],
   "source": [
    "a_hia_101, a_hia_102 = model_hia.nodes_db.node[['a(101)', 'a(102)']]\n",
    "a_loa_101, a_loa_102 = model_loa.nodes_db.node[['a(101)', 'a(102)']]\n",
    "\n",
    "t_hia_101, t_hia_102 = model_hia.nodes_db.node[['t(101)', 't(102)']]\n",
    "t_loa_101, t_loa_102 = model_loa.nodes_db.node[['t(101)', 't(102)']]\n",
    "\n",
    "v_hia_101, v_hia_102 = model_hia.nodes_db.node[['v(101)', 'v(102)']]\n",
    "v_loa_101, v_loa_102 = model_loa.nodes_db.node[['v(101)', 'v(102)']]\n",
    "\n",
    "z_hia_101, z_hia_102 = model_hia.nodes_db.node[['z(101)', 'z(102)']]\n",
    "z_loa_101, z_loa_102 = model_loa.nodes_db.node[['z(101)', 'z(102)']]"
   ]
  },
  {
   "cell_type": "code",
   "execution_count": 4,
   "metadata": {},
   "outputs": [],
   "source": [
    "a_hia_101_mean, a_hia_101_std = a_hia_101.trace().mean(), a_hia_101.trace().std()\n",
    "a_hia_102_mean, a_hia_102_std = a_hia_102.trace().mean(), a_hia_102.trace().std()\n",
    "\n",
    "a_loa_101_mean, a_loa_101_std = a_loa_101.trace().mean(), a_loa_101.trace().std()\n",
    "a_loa_102_mean, a_loa_102_std = a_loa_102.trace().mean(), a_loa_102.trace().std()\n",
    "\n",
    "t_hia_101_mean, t_hia_101_std = t_hia_101.trace().mean(), t_hia_101.trace().std()\n",
    "t_hia_102_mean, t_hia_102_std = t_hia_102.trace().mean(), t_hia_102.trace().std()\n",
    "\n",
    "t_loa_101_mean, t_loa_101_std = t_loa_101.trace().mean(), t_loa_101.trace().std()\n",
    "t_loa_102_mean, t_loa_102_std = t_loa_102.trace().mean(), t_loa_102.trace().std()\n",
    "\n",
    "v_hia_101_mean, v_hia_101_std = v_hia_101.trace().mean(), v_hia_101.trace().std()\n",
    "v_hia_102_mean, v_hia_102_std = v_hia_102.trace().mean(), v_hia_102.trace().std()\n",
    "\n",
    "v_loa_101_mean, v_loa_101_std = v_loa_101.trace().mean(), v_loa_101.trace().std()\n",
    "v_loa_102_mean, v_loa_102_std = v_loa_102.trace().mean(), v_loa_102.trace().std()\n",
    "\n",
    "z_hia_101_mean, z_hia_101_std = z_hia_101.trace().mean(), z_hia_101.trace().std()\n",
    "z_hia_102_mean, z_hia_102_std = z_hia_102.trace().mean(), z_hia_102.trace().std()\n",
    "\n",
    "z_loa_101_mean, z_loa_101_std = z_loa_101.trace().mean(), z_loa_101.trace().std()\n",
    "z_loa_102_mean, z_loa_102_std = z_loa_102.trace().mean(), z_loa_102.trace().std()"
   ]
  },
  {
   "cell_type": "code",
   "execution_count": 5,
   "metadata": {},
   "outputs": [],
   "source": [
    "# generate high anxiety data\n",
    "n_hia = 54\n",
    "n_loa = 61\n",
    "\n",
    "n_mixed = 98\n",
    "n_gain = 50\n",
    "\n",
    "\n",
    "\n",
    "params_hia_101 = np.concatenate((np.random.normal(a_hia_101_mean, a_hia_101_std, size=(n_hia,1)), \n",
    "                                 np.random.normal(t_hia_101_mean, t_hia_101_std, size=(n_hia,1)),\n",
    "                                 np.random.normal(v_hia_101_mean, v_hia_101_std, size=(n_hia,1)),\n",
    "                                 np.random.normal(z_hia_101_mean, z_hia_101_std, size=(n_hia,1))), axis=1)\n",
    "\n",
    "params_hia_102 = np.concatenate((np.random.normal(a_hia_102_mean, a_hia_102_std, size=(n_hia,1)), \n",
    "                                 np.random.normal(t_hia_102_mean, t_hia_102_std, size=(n_hia,1)),\n",
    "                                 np.random.normal(v_hia_102_mean, v_hia_102_std, size=(n_hia,1)),\n",
    "                                 np.random.normal(z_hia_102_mean, z_hia_102_std, size=(n_hia,1))), axis=1)\n",
    "\n",
    "params_loa_101 = np.concatenate((np.random.normal(a_loa_101_mean, a_loa_101_std, size=(n_loa,1)), \n",
    "                                 np.random.normal(t_loa_101_mean, t_loa_101_std, size=(n_loa,1)),\n",
    "                                 np.random.normal(v_loa_101_mean, v_loa_101_std, size=(n_loa,1)),\n",
    "                                 np.random.normal(z_loa_101_mean, z_loa_101_std, size=(n_loa,1))), axis=1)\n",
    "\n",
    "params_loa_102 = np.concatenate((np.random.normal(a_loa_102_mean, a_loa_102_std, size=(n_loa,1)), \n",
    "                                 np.random.normal(t_loa_102_mean, t_loa_102_std, size=(n_loa,1)),\n",
    "                                 np.random.normal(v_loa_102_mean, v_loa_102_std, size=(n_loa,1)),\n",
    "                                 np.random.normal(z_loa_102_mean, z_loa_102_std, size=(n_loa,1))), axis=1)\n",
    "\n",
    "data_hia = pd.DataFrame()\n",
    "data_loa = pd.DataFrame()\n",
    "\n",
    "for i in range(n_hia):\n",
    "\n",
    "    tmp_101, _ = hddm.generate.gen_rand_data({'101': {'a':params_hia_101[i,0], \n",
    "                                                      't':params_hia_101[i,1], \n",
    "                                                      'v':params_hia_101[i,2], \n",
    "                                                      'z':params_hia_101[i,3]}},\n",
    "                                              size=n_mixed)\n",
    "\n",
    "    tmp_102, _ = hddm.generate.gen_rand_data({'102': {'a':params_hia_102[i,0], \n",
    "                                                      't':params_hia_102[i,1], \n",
    "                                                      'v':params_hia_102[i,2], \n",
    "                                                      'z':params_hia_102[i,3]}},\n",
    "                                              size=n_gain)\n",
    "\n",
    "    data_subj = tmp_101.append(tmp_102, ignore_index=True).sample(frac=1).reset_index()\n",
    "\n",
    "    data_subj['subj_idx'] = i\n",
    "    \n",
    "    data_hia = data_hia.append(data_subj, ignore_index=True)\n",
    "\n",
    "\n",
    "for i in range(n_loa):\n",
    "\n",
    "    tmp_101, _ = hddm.generate.gen_rand_data({'101': {'a':params_loa_101[i,0], \n",
    "                                                      't':params_loa_101[i,1], \n",
    "                                                      'v':params_loa_101[i,2], \n",
    "                                                      'z':params_loa_101[i,3]}},\n",
    "                                              size=n_mixed)\n",
    "\n",
    "    tmp_102, _ = hddm.generate.gen_rand_data({'102': {'a':params_loa_102[i,0], \n",
    "                                                      't':params_loa_102[i,1], \n",
    "                                                      'v':params_loa_102[i,2], \n",
    "                                                      'z':params_loa_102[i,3]}},\n",
    "                                              size=n_gain)\n",
    "\n",
    "    data_subj = tmp_101.append(tmp_102, ignore_index=True).sample(frac=1).reset_index(drop=True)\n",
    "    data_subj['subj_idx'] = i\n",
    "    data_loa = data_loa.append(data_subj, ignore_index=True)"
   ]
  },
  {
   "cell_type": "code",
   "execution_count": 12,
   "metadata": {},
   "outputs": [],
   "source": [
    "np.savetxt('../parameter_recovery/params_hia_101.csv', params_hia_101, header=\"a,t,v,z\", delimiter=',', fmt='%f')\n",
    "np.savetxt('../parameter_recovery/params_hia_102.csv', params_hia_102, header=\"a,t,v,z\", delimiter=',', fmt='%f')\n",
    "np.savetxt('../parameter_recovery/params_loa_101.csv', params_loa_101, header=\"a,t,v,z\", delimiter=',', fmt='%f')\n",
    "np.savetxt('../parameter_recovery/params_loa_102.csv', params_loa_102, header=\"a,t,v,z\", delimiter=',', fmt='%f')\n",
    "\n",
    "\n",
    "data_hia = data_hia.rename(columns={'condition':'trial_type'})\n",
    "data_loa = data_loa.rename(columns={'condition':'trial_type'})\n",
    "\n",
    "data_hia.to_csv('../parameter_recovery/data_hia.csv')\n",
    "data_loa.to_csv('../parameter_recovery/data_loa.csv')"
   ]
  }
 ],
 "metadata": {
  "kernelspec": {
   "display_name": "pyHDDM",
   "language": "python",
   "name": "python3"
  },
  "language_info": {
   "codemirror_mode": {
    "name": "ipython",
    "version": 3
   },
   "file_extension": ".py",
   "mimetype": "text/x-python",
   "name": "python",
   "nbconvert_exporter": "python",
   "pygments_lexer": "ipython3",
   "version": "3.6.15"
  }
 },
 "nbformat": 4,
 "nbformat_minor": 2
}
